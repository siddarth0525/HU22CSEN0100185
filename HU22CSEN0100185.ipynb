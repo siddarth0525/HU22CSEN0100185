{
  "nbformat": 4,
  "nbformat_minor": 0,
  "metadata": {
    "colab": {
      "provenance": [],
      "authorship_tag": "ABX9TyORUcIL3lBrNXg6cTaalZpt",
      "include_colab_link": true
    },
    "kernelspec": {
      "name": "python3",
      "display_name": "Python 3"
    },
    "language_info": {
      "name": "python"
    }
  },
  "cells": [
    {
      "cell_type": "markdown",
      "metadata": {
        "id": "view-in-github",
        "colab_type": "text"
      },
      "source": [
        "<a href=\"https://colab.research.google.com/github/siddarth0525/HU22CSEN0100185/blob/main/HU22CSEN0100185.ipynb\" target=\"_parent\"><img src=\"https://colab.research.google.com/assets/colab-badge.svg\" alt=\"Open In Colab\"/></a>"
      ]
    },
    {
      "cell_type": "markdown",
      "source": [
        "Hardcoding Variables keyboard input"
      ],
      "metadata": {
        "id": "ZTYgCo8bbM4N"
      }
    },
    {
      "cell_type": "code",
      "execution_count": null,
      "metadata": {
        "colab": {
          "base_uri": "https://localhost:8080/"
        },
        "id": "Sdf_YolGbJZN",
        "outputId": "76a7404c-d3d1-4548-b3b5-9a17dcd118bb"
      },
      "outputs": [
        {
          "output_type": "stream",
          "name": "stdout",
          "text": [
            "The weather value at 6 hours is: 36.0\n"
          ]
        }
      ],
      "source": [
        "# Define the quadratic equation coefficients for the weather model\n",
        "a = 0.5    # Coefficient for t^2\n",
        "b = -2     # Coefficient for t\n",
        "c = 30     # Constant term\n",
        "# Input: Time of day (hardcoded value)\n",
        "time_of_day = 6\n",
        "# Calculate weather value using the quadratic formula\n",
        "weather_value = a * time_of_day**2 + b * time_of_day + c\n",
        "# Output the weather value\n",
        "print(f\"The weather value at {time_of_day} hours is: {weather_value}\")"
      ]
    },
    {
      "cell_type": "markdown",
      "source": [
        "Read from a File"
      ],
      "metadata": {
        "id": "JcEYMC62bOic"
      }
    },
    {
      "cell_type": "code",
      "source": [
        "# Define the quadratic equation coefficients for the weather model\n",
        "a = 0.5    # Coefficient for t^2\n",
        "b = -2     # Coefficient for t\n",
        "c = 30     # Constant term\n",
        "\n",
        "# Input: Time of day (via keyboard)\n",
        "time_of_day = float(input(\"Enter the time of day (in hours): \"))\n",
        "\n",
        "# Calculate weather value using the quadratic formula\n",
        "weather_value = a * time_of_day**2 + b * time_of_day + c\n",
        "\n",
        "# Output the weather value\n",
        "print(f\"The weather value at {time_of_day} hours is: {weather_value}\")"
      ],
      "metadata": {
        "colab": {
          "base_uri": "https://localhost:8080/"
        },
        "id": "CLrQFdztbosa",
        "outputId": "b83a5ce0-22ef-4485-a649-ccc47c4fbff1"
      },
      "execution_count": 1,
      "outputs": [
        {
          "output_type": "stream",
          "name": "stdout",
          "text": [
            "Enter the time of day (in hours): 5\n",
            "The weather value at 5.0 hours is: 32.5\n"
          ]
        }
      ]
    },
    {
      "cell_type": "markdown",
      "source": [
        "Single Set of Input"
      ],
      "metadata": {
        "id": "-dm_4v-4dXzz"
      }
    },
    {
      "cell_type": "code",
      "source": [
        "import os\n",
        "\n",
        "# File name\n",
        "file_name = \"time_of_day.txt\"\n",
        "\n",
        "# Check if the file exists\n",
        "if not os.path.exists(file_name):\n",
        "    # If file doesn't exist, create it and write a default value\n",
        "    print(f\"The file '{file_name}' was not found. Creating the file with a default value...\")\n",
        "    with open(file_name, \"w\") as file:\n",
        "        file.write(\"12.0\")  # Default time of day, e.g., 12 hours\n",
        "\n",
        "# Read the file\n",
        "try:\n",
        "    with open(file_name, \"r\") as file:\n",
        "        time_of_day = file.readline().strip()  # Read and strip whitespace\n",
        "        # Ensure the value read is a valid float\n",
        "        if not time_of_day.replace('.', '', 1).isdigit():\n",
        "            raise ValueError(\"The file must contain a valid number.\")\n",
        "        time_of_day = float(time_of_day)  # Convert to float\n",
        "\n",
        "    # Validate the range of time_of_day\n",
        "    if not (0 <= time_of_day <= 24):\n",
        "        raise ValueError(\"Time of day must be between 0 and 24 hours.\")\n",
        "\n",
        "    # Define the quadratic equation coefficients\n",
        "    a = 0.5  # Coefficient for t^2\n",
        "    b = -2   # Coefficient for t\n",
        "    c = 30   # Constant term\n",
        "\n",
        "    # Calculate the weather value\n",
        "    weather_value = a * time_of_day**2 + b * time_of_day + c\n",
        "\n",
        "    # Output the weather value\n",
        "    print(f\"The weather value at {time_of_day} hours is: {weather_value:.2f}\")\n",
        "\n",
        "except FileNotFoundError:\n",
        "    print(f\"Error: The file '{file_name}' was not found.\")\n",
        "except ValueError as ve:\n",
        "    print(f\"Error: {ve}\")\n",
        "except Exception as e:\n",
        "    print(f\"An unexpected error occurred: {e}\")\n"
      ],
      "metadata": {
        "colab": {
          "base_uri": "https://localhost:8080/"
        },
        "id": "zbcE6UPKdbO5",
        "outputId": "d84232ee-8280-4a20-b49a-87a5c003ac31"
      },
      "execution_count": 4,
      "outputs": [
        {
          "output_type": "stream",
          "name": "stdout",
          "text": [
            "The file 'time_of_day.txt' was not found. Creating the file with a default value...\n",
            "The weather value at 12.0 hours is: 78.00\n"
          ]
        }
      ]
    },
    {
      "cell_type": "markdown",
      "source": [
        "Multiple Set of Inputs"
      ],
      "metadata": {
        "id": "FY78Vzn6e1sQ"
      }
    },
    {
      "cell_type": "code",
      "source": [
        "# Define the quadratic equation coefficients for the weather model\n",
        "a = 0.5    # Coefficient for t^2\n",
        "b = -2     # Coefficient for t\n",
        "c = 30     # Constant term\n",
        "\n",
        "# Read multiple times of day from a file\n",
        "with open(\"time_of_day.txt\", \"r\") as file:\n",
        "    times_of_day = [float(line.strip()) for line in file.readlines()]\n",
        "\n",
        "# Process each time and calculate the weather value\n",
        "for time_of_day in times_of_day:\n",
        "    weather_value = a * time_of_day**2 + b * time_of_day + c\n",
        "    print(f\"The weather value at {time_of_day} hours is: {weather_value}\")"
      ],
      "metadata": {
        "colab": {
          "base_uri": "https://localhost:8080/"
        },
        "id": "KNAgIkKqe7rY",
        "outputId": "340a9fef-c294-4a62-e023-ae894080ffb9"
      },
      "execution_count": 5,
      "outputs": [
        {
          "output_type": "stream",
          "name": "stdout",
          "text": [
            "The weather value at 12.0 hours is: 78.0\n"
          ]
        }
      ]
    }
  ]
}